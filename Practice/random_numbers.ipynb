{
 "cells": [
  {
   "cell_type": "code",
   "execution_count": 1,
   "id": "23a409b3-3102-40db-9697-14d1d42d15da",
   "metadata": {},
   "outputs": [],
   "source": [
    "# Import the random module\n",
    "import random "
   ]
  },
  {
   "cell_type": "code",
   "execution_count": 8,
   "id": "059c56b8-e7ab-4831-b7eb-51f0bd49e7e1",
   "metadata": {},
   "outputs": [],
   "source": [
    "# Lattitudes (East, West) are -90 to 90\n",
    "# Longitudes (North, South) are -180 to 180"
   ]
  },
  {
   "cell_type": "code",
   "execution_count": 25,
   "id": "c996747c-2341-400b-a84d-99679c0d06ff",
   "metadata": {},
   "outputs": [
    {
     "data": {
      "text/plain": [
       "-41.58902513019762"
      ]
     },
     "execution_count": 25,
     "metadata": {},
     "output_type": "execute_result"
    }
   ],
   "source": [
    "random.uniform(-90, 90)"
   ]
  },
  {
   "cell_type": "code",
   "execution_count": 28,
   "id": "6a1b22b2-c8b4-4db8-b52c-45b9c90d4581",
   "metadata": {},
   "outputs": [],
   "source": [
    "# To generate 1,500 random latitudes and longitudes, use NumPy module with random\n",
    "# functions\n",
    "\n",
    "import numpy as np"
   ]
  },
  {
   "cell_type": "code",
   "execution_count": 30,
   "id": "decc2f38-5b31-43b0-829f-c7c6fe5ae463",
   "metadata": {},
   "outputs": [
    {
     "data": {
      "text/plain": [
       "array([ 25.20727395,  21.56282204, -26.5614055 , -79.87366767,\n",
       "         8.87700546])"
      ]
     },
     "execution_count": 30,
     "metadata": {},
     "output_type": "execute_result"
    }
   ],
   "source": [
    "np.random.uniform(-90.000, 90.000, size = 5)"
   ]
  },
  {
   "cell_type": "code",
   "execution_count": null,
   "id": "4c3c9d00-6786-4f00-85db-5d55a8f4d67d",
   "metadata": {},
   "outputs": [],
   "source": []
  },
  {
   "cell_type": "code",
   "execution_count": 33,
   "id": "91ee4fd7-4ace-45d4-a52d-f5d283585d0d",
   "metadata": {},
   "outputs": [
    {
     "name": "stdout",
     "output_type": "stream",
     "text": [
      "14.7 µs ± 369 ns per loop (mean ± std. dev. of 7 runs, 100000 loops each)\n"
     ]
    }
   ],
   "source": [
    "# Import timeit to compare numpy module vs while loop \n",
    "import timeit\n",
    "%timeit np.random.uniform(-90.000, 90.000, size= 1500)"
   ]
  },
  {
   "cell_type": "code",
   "execution_count": 35,
   "id": "bc4aab8a-8adf-49e5-94f7-12f34f649fa1",
   "metadata": {},
   "outputs": [
    {
     "name": "stdout",
     "output_type": "stream",
     "text": [
      "3 ms ± 119 µs per loop (mean ± std. dev. of 7 runs, 100 loops each)\n"
     ]
    }
   ],
   "source": [
    "def latitudes(size):\n",
    "    latitudes = []\n",
    "    x = 0\n",
    "    while x < (size):\n",
    "        random_lat = np.random.uniform(-90, 90) + random.random()\n",
    "        latitudes.append(random_lat)\n",
    "        x += 1\n",
    "    return latitudes\n",
    "# Call the function with 1500.\n",
    "%timeit latitudes(1500)"
   ]
  },
  {
   "cell_type": "code",
   "execution_count": null,
   "id": "4c994341-70f0-498f-9f0b-a4717e54da1e",
   "metadata": {},
   "outputs": [],
   "source": []
  }
 ],
 "metadata": {
  "kernelspec": {
   "display_name": "PythonData",
   "language": "python",
   "name": "pythondata"
  },
  "language_info": {
   "codemirror_mode": {
    "name": "ipython",
    "version": 3
   },
   "file_extension": ".py",
   "mimetype": "text/x-python",
   "name": "python",
   "nbconvert_exporter": "python",
   "pygments_lexer": "ipython3",
   "version": "3.7.10"
  }
 },
 "nbformat": 4,
 "nbformat_minor": 5
}
