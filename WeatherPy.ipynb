{
 "cells": [
  {
   "cell_type": "code",
   "execution_count": 20,
   "id": "21752d65-c5f4-4b4d-aa87-bb9a369990ab",
   "metadata": {},
   "outputs": [],
   "source": [
    "# Import dependencies \n",
    "import pandas as pd\n",
    "import matplotlib.pyplot as plt \n",
    "import numpy as np"
   ]
  },
  {
   "cell_type": "code",
   "execution_count": 21,
   "id": "3b7fcf0f-3d1b-4210-8e33-64591d23857a",
   "metadata": {},
   "outputs": [
    {
     "data": {
      "text/plain": [
       "<zip at 0x1ccb44a65c8>"
      ]
     },
     "execution_count": 21,
     "metadata": {},
     "output_type": "execute_result"
    }
   ],
   "source": [
    "# Create a set of random lattitude and longitude combinations \n",
    "lats = np.random.uniform(low=-90.000, high=90.000, size = 1500)\n",
    "lngs = np.random.uniform(low=-180.000, high=180.000, size = 1500)\n",
    "\n",
    "# Zip lists; creates iterator of tuples\n",
    "# Recall tuples are used to store multiple items in a single variable\n",
    "lat_lngs = zip(lats, lngs)\n",
    "lat_lngs"
   ]
  },
  {
   "cell_type": "code",
   "execution_count": 22,
   "id": "dea82c8b-66b9-4777-8008-08660435b368",
   "metadata": {},
   "outputs": [],
   "source": [
    "# Add the lattitudes and longitudes to a list \n",
    "coordinates = list(lat_lngs)"
   ]
  },
  {
   "cell_type": "code",
   "execution_count": 23,
   "id": "26f3dd14-b56e-4999-bd69-ce05dfba9d1c",
   "metadata": {},
   "outputs": [],
   "source": [
    "# GENERATE RANDOM WORLD CITIES \n",
    "# Install citipy using pip install citipy\n",
    "# Use the citipy module to determine city based on latitude and longitude.\n",
    "\n",
    "from citipy import citipy"
   ]
  },
  {
   "cell_type": "code",
   "execution_count": 24,
   "id": "fb5db4bc-5e8c-4456-b035-62a8be90105c",
   "metadata": {},
   "outputs": [
    {
     "data": {
      "text/plain": [
       "619"
      ]
     },
     "execution_count": 24,
     "metadata": {},
     "output_type": "execute_result"
    }
   ],
   "source": [
    "#Create a list to hold cities \n",
    "cities = []\n",
    "for coordinate in coordinates:\n",
    "    city = citipy.nearest_city(coordinate[0], coordinate[1]).city_name\n",
    "    if city not in cities: \n",
    "        cities.append(city)\n",
    "        \n",
    "len(cities)"
   ]
  }
 ],
 "metadata": {
  "kernelspec": {
   "display_name": "PythonData",
   "language": "python",
   "name": "pythondata"
  },
  "language_info": {
   "codemirror_mode": {
    "name": "ipython",
    "version": 3
   },
   "file_extension": ".py",
   "mimetype": "text/x-python",
   "name": "python",
   "nbconvert_exporter": "python",
   "pygments_lexer": "ipython3",
   "version": "3.7.10"
  }
 },
 "nbformat": 4,
 "nbformat_minor": 5
}
